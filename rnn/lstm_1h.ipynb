{
  "nbformat": 4,
  "nbformat_minor": 0,
  "metadata": {
    "colab": {
      "provenance": [],
      "gpuType": "T4"
    },
    "kernelspec": {
      "name": "python3",
      "display_name": "Python 3"
    },
    "language_info": {
      "name": "python"
    },
    "accelerator": "GPU"
  },
  "cells": [
    {
      "cell_type": "markdown",
      "source": [
        "# Setup"
      ],
      "metadata": {
        "id": "XxVoX7alE8Sx"
      }
    },
    {
      "cell_type": "code",
      "execution_count": 1,
      "metadata": {
        "id": "s5E6H3beEtad"
      },
      "outputs": [],
      "source": [
        "import numpy as np\n",
        "import torch\n",
        "import pandas as pd\n",
        "import matplotlib.pyplot as plt\n",
        "import random\n",
        "from sklearn.preprocessing import StandardScaler\n",
        "from sklearn.metrics import mean_squared_error, r2_score"
      ]
    },
    {
      "cell_type": "markdown",
      "source": [
        "## Configuration"
      ],
      "metadata": {
        "id": "1mlwQTQuFBAg"
      }
    },
    {
      "cell_type": "code",
      "source": [
        "# Set parameters\n",
        "WINDOW_SIZE = 120 # in hours\n",
        "PREDICTION_STEP = 1    # in hours\n",
        "BATCH_SIZE = 64\n",
        "HIDDEN_SIZE = 32\n",
        "NUM_LAYERS = 2\n",
        "LEARNING_RATE = 0.0001\n",
        "N_EPOCHS = 50\n",
        "SPLIT_FRACTION = 0.8   # Train/test split ratio\n",
        "\n",
        "# Set seeds for reproducibility\n",
        "RANDOM_SEED = 1234\n",
        "np.random.seed(RANDOM_SEED)\n",
        "torch.manual_seed(RANDOM_SEED)\n",
        "random.seed(RANDOM_SEED)\n",
        "\n",
        "# Set device for computation\n",
        "device = torch.device(\"cuda\" if torch.cuda.is_available() else\n",
        "                      \"mps\" if torch.backends.mps.is_available() else \"cpu\")\n",
        "print(f\"Using device: {device}\")"
      ],
      "metadata": {
        "colab": {
          "base_uri": "https://localhost:8080/"
        },
        "id": "vmH-B9b9E-I-",
        "outputId": "2ea102a3-069f-4a86-90fe-65dc146f457d"
      },
      "execution_count": 2,
      "outputs": [
        {
          "output_type": "stream",
          "name": "stdout",
          "text": [
            "Using device: cuda\n"
          ]
        }
      ]
    },
    {
      "cell_type": "markdown",
      "source": [
        "# Data"
      ],
      "metadata": {
        "id": "seFjyC3FF0xb"
      }
    },
    {
      "cell_type": "code",
      "source": [
        "def load_and_preprocess_data(file_path):\n",
        "    \"\"\"Load, preprocess and resample data to hourly frequency\"\"\"\n",
        "    print(\"Loading and resampling data...\")\n",
        "    df_full = pd.read_csv(file_path)\n",
        "\n",
        "    # Convert timestamp to datetime\n",
        "    df_full['timestamp'] = pd.to_datetime(df_full['Timestamp'], unit='s')\n",
        "    df_full = df_full.set_index('timestamp')\n",
        "\n",
        "    print(f\"Full dataset date range: {df_full.index.min()} to {df_full.index.max()}\")\n",
        "\n",
        "    # Resample to hourly frequency\n",
        "    df_hourly = df_full.loc['2018-01-01':]['Close'].resample('h').last().dropna().to_frame()\n",
        "\n",
        "    print(f\"Resampled to {len(df_hourly)} hourly data points.\")\n",
        "    print(df_hourly.describe())\n",
        "\n",
        "    return df_hourly"
      ],
      "metadata": {
        "id": "7viUYbTzF1kH"
      },
      "execution_count": 3,
      "outputs": []
    },
    {
      "cell_type": "code",
      "source": [
        "def create_features(df):\n",
        "    \"\"\"Create financial features for the model\"\"\"\n",
        "    # Calculate hourly log returns\n",
        "    df['log_return'] = np.log(df['Close'] / df['Close'].shift(1))\n",
        "\n",
        "    # Calculate Moving Averages on 'Close' price\n",
        "    df['SMA_5'] = df['Close'].rolling(window=5).mean()\n",
        "    df['SMA_10'] = df['Close'].rolling(window=10).mean()\n",
        "\n",
        "    # Calculate Volatility (rolling standard deviation of log returns)\n",
        "    df['Volatility_10'] = df['log_return'].rolling(window=10).std()\n",
        "    df['Volatility_20'] = df['log_return'].rolling(window=20).std()\n",
        "\n",
        "    # Calculate distance from moving averages\n",
        "    df['dist_from_SMA5'] = (df['Close'] - df['SMA_5']) / df['SMA_5']\n",
        "    df['dist_from_SMA10'] = (df['Close'] - df['SMA_10']) / df['SMA_10']\n",
        "\n",
        "    # Drop NaN values and reset index\n",
        "    df = df.dropna().reset_index()\n",
        "\n",
        "    print(f\"Calculated features. Shape: {df.shape}\")\n",
        "    return df"
      ],
      "metadata": {
        "id": "17cyMQmeF3g1"
      },
      "execution_count": 4,
      "outputs": []
    },
    {
      "cell_type": "code",
      "source": [
        "def prepare_data(df_hourly, split_fraction=SPLIT_FRACTION):\n",
        "    \"\"\"Split and normalize data\"\"\"\n",
        "    # Split data into train and test sets\n",
        "    split_idx = int(len(df_hourly) * split_fraction)\n",
        "    train_data = df_hourly.iloc[:split_idx].copy()\n",
        "    test_data = df_hourly.iloc[split_idx:].copy()\n",
        "\n",
        "    print(f\"Training data shape: {train_data.shape}\")\n",
        "    print(f\"Test data shape: {test_data.shape}\")\n",
        "    print(f\"Test set date range: {test_data['timestamp'].min()} to {test_data['timestamp'].max()}\")\n",
        "\n",
        "    # Define features to scale\n",
        "    feature_names = ['log_return', 'dist_from_SMA5', 'dist_from_SMA10',\n",
        "                     'Volatility_10', 'Volatility_20']\n",
        "    scaled_feature_names = [f'scaled_{col}' for col in feature_names]\n",
        "\n",
        "    # Normalize features\n",
        "    scaler = StandardScaler()\n",
        "    scaler.fit(train_data[feature_names])  # Fit only on training data\n",
        "\n",
        "    # Apply scaler to both train and test data\n",
        "    train_data[scaled_feature_names] = scaler.transform(train_data[feature_names])\n",
        "    test_data[scaled_feature_names] = scaler.transform(test_data[feature_names])\n",
        "\n",
        "    return train_data, test_data, scaled_feature_names"
      ],
      "metadata": {
        "id": "uz9d1THyGBnb"
      },
      "execution_count": 5,
      "outputs": []
    },
    {
      "cell_type": "code",
      "source": [
        "def create_lagged_data(data, window_size, prediction_step, feature_cols, target_col='log_return', device=None):\n",
        "    \"\"\"\n",
        "    Create lagged data for predicting a specific future step with multiple features.\n",
        "\n",
        "    Args:\n",
        "        data: DataFrame with features and target\n",
        "        window_size: Number of past hours for input features\n",
        "        prediction_step: How many hours ahead to predict\n",
        "        feature_cols: List of column names for input features\n",
        "        target_col: Column name for target variable\n",
        "        device: Device to place tensors on\n",
        "\n",
        "    Returns:\n",
        "        x, y: PyTorch tensors of inputs (scaled) and targets (unscaled)\n",
        "    \"\"\"\n",
        "    x, y = [], []\n",
        "\n",
        "    for i in range(len(data) - window_size - prediction_step + 1):\n",
        "        # Input features: past window_size hours of scaled features\n",
        "        feature_slice = data[feature_cols].iloc[i:i + window_size].values\n",
        "\n",
        "        # Target: sum of actual returns for the next prediction_step hours\n",
        "        target_indices = range(i + window_size, i + window_size + prediction_step)\n",
        "        target = data[target_col].iloc[target_indices].sum()\n",
        "\n",
        "        x.append(feature_slice)\n",
        "        y.append(target)\n",
        "\n",
        "    x = np.array(x)  # Shape: (num_samples, window_size, num_features)\n",
        "    y = np.array(y)  # Shape: (num_samples,)\n",
        "\n",
        "    x_tensor = torch.FloatTensor(x).to(device)\n",
        "    y_tensor = torch.FloatTensor(y).to(device)\n",
        "\n",
        "    return x_tensor, y_tensor"
      ],
      "metadata": {
        "id": "AjuBL-ThGQb2"
      },
      "execution_count": 6,
      "outputs": []
    },
    {
      "cell_type": "markdown",
      "source": [
        "# Model"
      ],
      "metadata": {
        "id": "Rcbo42cjGT7I"
      }
    },
    {
      "cell_type": "code",
      "source": [
        "class RNN_model(torch.nn.Module):\n",
        "    \"\"\"LSTM-based RNN model for time series prediction\"\"\"\n",
        "    def __init__(self, input_size, hidden_size, num_layers):\n",
        "        super().__init__()\n",
        "        self.rnn = torch.nn.LSTM(\n",
        "            input_size=input_size,\n",
        "            hidden_size=hidden_size,\n",
        "            num_layers=num_layers,\n",
        "            batch_first=True,\n",
        "            dropout=0.1  # Dropout between layers if num_layers > 1\n",
        "        )\n",
        "        self.fc1 = torch.nn.Linear(hidden_size, 30)\n",
        "        self.fc2 = torch.nn.Linear(30, 1)\n",
        "\n",
        "    def forward(self, x):\n",
        "        # x shape: (batch, seq_len, input_size)\n",
        "        out, _ = self.rnn(x)\n",
        "\n",
        "        # Get the output from the last time step\n",
        "        out = out[:, -1, :]  # Shape: (batch, hidden_size)\n",
        "\n",
        "        out = torch.nn.functional.relu(self.fc1(out))\n",
        "        out = self.fc2(out)\n",
        "        return out.squeeze(-1)  # Shape: (batch)\n",
        "\n",
        "class SharpeLoss(torch.nn.Module):\n",
        "    \"\"\"Loss function that maximizes Sharpe ratio of strategy returns\"\"\"\n",
        "    def __init__(self, threshold=0):\n",
        "        super(SharpeLoss, self).__init__()\n",
        "        self.threshold = threshold\n",
        "\n",
        "    def forward(self, pred_returns, actual_returns):\n",
        "        # Use a continuous approximation of the step function\n",
        "        positive_signals = torch.sigmoid(10 * (pred_returns - self.threshold))\n",
        "        negative_signals = -torch.sigmoid(10 * (-pred_returns - self.threshold))\n",
        "        signals = positive_signals + negative_signals\n",
        "\n",
        "        # Calculate strategy returns\n",
        "        strategy_returns = signals * actual_returns\n",
        "\n",
        "        # Calculate Sharpe ratio components\n",
        "        mean_return = torch.mean(strategy_returns)\n",
        "        std_return = torch.std(strategy_returns) + 1e-6  # Avoid division by zero\n",
        "\n",
        "        return -mean_return / std_return  # Negative because we want to maximize"
      ],
      "metadata": {
        "id": "AkeZx0E5GUw2"
      },
      "execution_count": 7,
      "outputs": []
    },
    {
      "cell_type": "code",
      "source": [
        "def train_RNN(model, n_epochs, loader, optimizer, loss_fn, x_train, x_test, y_train, y_test, device):\n",
        "    \"\"\"Train the RNN model and periodically evaluate performance\"\"\"\n",
        "    train_losses = []\n",
        "    test_rmses = []\n",
        "    eval_batch_size = 128\n",
        "\n",
        "    print(\"Starting Training...\")\n",
        "    for epoch in range(n_epochs):\n",
        "        model.train()\n",
        "        batch_losses = []\n",
        "\n",
        "        for x_batch, y_batch in loader:\n",
        "            y_pred = model(x_batch)\n",
        "            loss = loss_fn(y_pred, y_batch)\n",
        "\n",
        "            optimizer.zero_grad()\n",
        "            loss.backward()\n",
        "            optimizer.step()\n",
        "\n",
        "            batch_losses.append(loss.item())\n",
        "\n",
        "        epoch_loss = np.mean(batch_losses)\n",
        "        train_losses.append(epoch_loss)\n",
        "\n",
        "        # Validation every 5 epochs or on the final epoch\n",
        "        if epoch % 5 == 0 or epoch == n_epochs - 1:\n",
        "            model.eval()\n",
        "            with torch.no_grad():\n",
        "                # Evaluate on Training Set\n",
        "                train_preds_list = []\n",
        "                current_pos = 0\n",
        "\n",
        "                while current_pos < len(x_train):\n",
        "                    x_batch_eval = x_train[current_pos:min(current_pos + eval_batch_size, len(x_train))]\n",
        "                    if x_batch_eval.shape[0] > 0:  # Ensure batch not empty\n",
        "                        batch_preds = model(x_batch_eval)\n",
        "                        train_preds_list.append(batch_preds)\n",
        "                    current_pos += eval_batch_size\n",
        "\n",
        "                if not train_preds_list:  # Handle case where train set is smaller than eval_batch_size\n",
        "                    train_rmse = float('nan')\n",
        "                else:\n",
        "                    y_pred_train = torch.cat(train_preds_list)\n",
        "                    train_rmse = torch.sqrt(torch.mean((y_pred_train - y_train) ** 2))\n",
        "\n",
        "                # Evaluate on Test Set\n",
        "                test_preds_list = []\n",
        "                current_pos = 0\n",
        "\n",
        "                while current_pos < len(x_test):\n",
        "                    x_batch_eval = x_test[current_pos:min(current_pos + eval_batch_size, len(x_test))]\n",
        "                    if x_batch_eval.shape[0] > 0:  # Ensure batch not empty\n",
        "                        batch_preds = model(x_batch_eval)\n",
        "                        test_preds_list.append(batch_preds)\n",
        "                    current_pos += eval_batch_size\n",
        "\n",
        "                if not test_preds_list:  # Handle case where test set is smaller than eval_batch_size\n",
        "                    test_rmse = float('nan')\n",
        "                    test_rmses.append(test_rmse)\n",
        "                else:\n",
        "                    y_pred_test = torch.cat(test_preds_list)\n",
        "                    test_rmse = torch.sqrt(torch.mean((y_pred_test - y_test) ** 2))\n",
        "                    test_rmses.append(test_rmse.item())\n",
        "\n",
        "            print(f\"Epoch {epoch}: Train Loss {epoch_loss:.6f}, Train RMSE {train_rmse:.6f}, Test RMSE {test_rmse:.6f}\")\n",
        "\n",
        "    print(\"Training Finished.\")\n",
        "    return train_losses, test_rmses"
      ],
      "metadata": {
        "id": "YnBfmDlpGTj8"
      },
      "execution_count": 8,
      "outputs": []
    },
    {
      "cell_type": "code",
      "source": [
        "def evaluate_model(model, x_test, y_test, batch_size, device):\n",
        "    \"\"\"Evaluate model performance on test data\"\"\"\n",
        "    test_dataset = torch.utils.data.TensorDataset(x_test, y_test)\n",
        "    test_loader = torch.utils.data.DataLoader(test_dataset, batch_size=batch_size, shuffle=False)\n",
        "\n",
        "    model.eval()\n",
        "    all_predictions = []\n",
        "\n",
        "    with torch.no_grad():\n",
        "        for x_batch, _ in test_loader:\n",
        "            y_pred_batch = model(x_batch).cpu()\n",
        "            all_predictions.append(y_pred_batch)\n",
        "\n",
        "        y_pred_test = torch.cat(all_predictions, dim=0).numpy()\n",
        "\n",
        "    y_actual_test = y_test.cpu().numpy()\n",
        "\n",
        "    # Calculate performance metrics\n",
        "    mse = mean_squared_error(y_actual_test, y_pred_test)\n",
        "    rmse = np.sqrt(mse)\n",
        "    r2 = r2_score(y_actual_test, y_pred_test)\n",
        "    mae = np.mean(np.abs(y_actual_test - y_pred_test))\n",
        "\n",
        "    print(f\"Test Set Performance Metrics:\")\n",
        "    print(f\"MSE: {mse:.8f}\")\n",
        "    print(f\"RMSE: {rmse:.8f}\")\n",
        "    print(f\"MAE: {mae:.8f}\")\n",
        "    print(f\"R²: {r2:.6f}\")\n",
        "\n",
        "    return y_pred_test, y_actual_test"
      ],
      "metadata": {
        "id": "435veZ-sGaD1"
      },
      "execution_count": 9,
      "outputs": []
    },
    {
      "cell_type": "markdown",
      "source": [
        "# Strategy"
      ],
      "metadata": {
        "id": "u37RfLEuGcLb"
      }
    },
    {
      "cell_type": "code",
      "source": [
        "def generate_trading_signals(predictions, threshold=0):\n",
        "    \"\"\"Generate trading signals based on predictions\"\"\"\n",
        "    signals = np.zeros(len(predictions))\n",
        "    signals[predictions > threshold] = 1     # Long position\n",
        "    signals[predictions < -threshold] = -1   # Short position\n",
        "    return signals\n",
        "\n",
        "def calculate_strategy_performance(signals, actual_returns):\n",
        "    \"\"\"Calculate performance metrics for trading strategy\"\"\"\n",
        "    # Calculate strategy returns\n",
        "    strategy_returns = signals * actual_returns\n",
        "\n",
        "    # Calculate cumulative returns\n",
        "    cumulative_strategy_returns = np.cumsum(strategy_returns)\n",
        "    cumulative_benchmark_returns = np.cumsum(actual_returns)\n",
        "\n",
        "    # Calculate Sharpe ratio (annualized for hourly data)\n",
        "    if np.std(strategy_returns) > 1e-9:\n",
        "        # Annualization factor for hourly trading (approx 24*252 = 6048 trading hours per year)\n",
        "        trading_hours_per_year = 24 * 252\n",
        "        sharpe_ratio = (np.mean(strategy_returns) / np.std(strategy_returns)) * np.sqrt(trading_hours_per_year)\n",
        "    else:\n",
        "        sharpe_ratio = 0.0\n",
        "        print(\"Warning: Standard deviation of strategy returns is zero or near-zero.\")\n",
        "\n",
        "    print(f\"Strategy Sharpe Ratio (Annualized): {sharpe_ratio:.4f}\")\n",
        "    print(f\"Signal distribution: Long: {np.sum(signals > 0)}, Short: {np.sum(signals < 0)}, Hold: {np.sum(signals == 0)}\")\n",
        "\n",
        "    return cumulative_strategy_returns, cumulative_benchmark_returns, sharpe_ratio"
      ],
      "metadata": {
        "id": "JeyCYjuIGfhn"
      },
      "execution_count": 10,
      "outputs": []
    },
    {
      "cell_type": "markdown",
      "source": [
        "## Visualization"
      ],
      "metadata": {
        "id": "PgcCq7FEGigP"
      }
    },
    {
      "cell_type": "code",
      "source": [
        "def plot_returns(cumulative_strategy_returns, cumulative_benchmark_returns, test_dates=None):\n",
        "    \"\"\"Plot cumulative returns of strategy vs benchmark\"\"\"\n",
        "    plt.figure(figsize=(14, 7))\n",
        "\n",
        "    if test_dates is not None and len(test_dates) == len(cumulative_strategy_returns):\n",
        "        plt.plot(test_dates, cumulative_strategy_returns, label=f'RNN Strategy', color='cyan')\n",
        "        plt.plot(test_dates, cumulative_benchmark_returns, label='Buy & Hold (Benchmark)', color='orange')\n",
        "        plt.xlabel('Date')\n",
        "    else:\n",
        "        # Fallback to plotting against index if dates don't align\n",
        "        plt.plot(cumulative_strategy_returns, label=f'RNN Strategy', color='cyan')\n",
        "        plt.plot(cumulative_benchmark_returns, label='Buy & Hold (Benchmark)', color='orange')\n",
        "        plt.xlabel('Trading Hours (Test Set)')\n",
        "\n",
        "    plt.legend()\n",
        "    plt.title(f'Cumulative Returns: RNN Strategy vs Buy & Hold')\n",
        "    plt.ylabel('Cumulative Log Returns')\n",
        "    plt.grid(True)\n",
        "    plt.tight_layout()\n",
        "    plt.show()\n",
        "\n",
        "def plot_training_loss(train_losses):\n",
        "    \"\"\"Plot training loss over epochs\"\"\"\n",
        "    plt.figure(figsize=(10, 5))\n",
        "    plt.plot(train_losses, label='Training Loss')\n",
        "    plt.xlabel('Epoch')\n",
        "    plt.ylabel('Loss')\n",
        "    plt.title('Training Loss over Epochs')\n",
        "    plt.legend()\n",
        "    plt.grid(True)\n",
        "    plt.tight_layout()\n",
        "    plt.show()\n",
        "\n",
        "def plot_predictions_vs_actual(y_actual, y_pred):\n",
        "    \"\"\"Plot predicted vs actual returns\"\"\"\n",
        "    plt.figure(figsize=(14, 7))\n",
        "    plt.plot(y_actual, label='Actual Returns', color='blue', alpha=0.7)\n",
        "    plt.plot(y_pred * 0.1, label='Predicted Returns (scaled for visibility)', color='red', alpha=0.7)\n",
        "    plt.xlabel('Test Sample Index')\n",
        "    plt.ylabel('Log Return')\n",
        "    plt.title('Predicted vs Actual Returns on Test Set')\n",
        "    plt.legend()\n",
        "    plt.grid(True)\n",
        "    plt.tight_layout()\n",
        "    plt.show()\n",
        "\n",
        "    # Plot prediction error\n",
        "    plt.figure(figsize=(14, 7))\n",
        "    prediction_error = y_actual - y_pred\n",
        "    plt.plot(prediction_error, color='green', alpha=0.7)\n",
        "    plt.axhline(y=0, color='r', linestyle='-', alpha=0.3)\n",
        "    plt.xlabel('Test Sample Index')\n",
        "    plt.ylabel('Error (Actual - Predicted)')\n",
        "    plt.title('Prediction Error on Test Set')\n",
        "    plt.grid(True)\n",
        "    plt.tight_layout()\n",
        "    plt.show()"
      ],
      "metadata": {
        "id": "s4CrsmxfGj00"
      },
      "execution_count": 11,
      "outputs": []
    },
    {
      "cell_type": "markdown",
      "source": [
        "# Execution"
      ],
      "metadata": {
        "id": "cgM27NqsGx7y"
      }
    },
    {
      "cell_type": "code",
      "source": [
        "# Load and preprocess data\n",
        "df_hourly = load_and_preprocess_data('btcusd_1-min_data.csv')\n",
        "\n",
        "# Create features\n",
        "df_hourly = create_features(df_hourly)\n",
        "\n",
        "# Prepare data (split and normalize)\n",
        "train_data, test_data, scaled_feature_names = prepare_data(df_hourly)\n",
        "\n",
        "# Create lagged datasets\n",
        "x_train, y_train = create_lagged_data(\n",
        "    train_data, WINDOW_SIZE, PREDICTION_STEP,\n",
        "    feature_cols=scaled_feature_names,\n",
        "    target_col='log_return',\n",
        "    device=device\n",
        ")\n",
        "x_test, y_test = create_lagged_data(\n",
        "    test_data, WINDOW_SIZE, PREDICTION_STEP,\n",
        "    feature_cols=scaled_feature_names,\n",
        "    target_col='log_return',\n",
        "    device=device\n",
        ")\n",
        "\n",
        "print(f\"Training input shape: {x_train.shape}, target shape: {y_train.shape}\")\n",
        "print(f\"Test input shape: {x_test.shape}, target shape: {y_test.shape}\")\n",
        "\n",
        "# Check if datasets are empty\n",
        "if x_train.shape[0] == 0 or x_test.shape[0] == 0:\n",
        "    raise ValueError(\"Created datasets are empty. Check data length and window/prediction steps.\")"
      ],
      "metadata": {
        "colab": {
          "base_uri": "https://localhost:8080/"
        },
        "id": "Zog1BO8HGy_P",
        "outputId": "bd3ed669-ac7c-4a5b-f6a8-b4836cc3fe58"
      },
      "execution_count": 13,
      "outputs": [
        {
          "output_type": "stream",
          "name": "stdout",
          "text": [
            "Loading and resampling data...\n",
            "Full dataset date range: 2012-01-01 10:01:00 to 2025-05-04 00:50:00\n",
            "Resampled to 64303 hourly data points.\n",
            "               Close\n",
            "count   64303.000000\n",
            "mean    30955.151467\n",
            "std     25440.784599\n",
            "min      3139.760000\n",
            "25%      9166.460000\n",
            "50%     23695.480000\n",
            "75%     46532.995000\n",
            "max    108276.000000\n",
            "Calculated features. Shape: (64283, 9)\n",
            "Training data shape: (51426, 9)\n",
            "Test data shape: (12857, 9)\n",
            "Test set date range: 2023-11-14 14:00:00 to 2025-05-04 00:00:00\n",
            "Training input shape: torch.Size([51306, 120, 5]), target shape: torch.Size([51306])\n",
            "Test input shape: torch.Size([12737, 120, 5]), target shape: torch.Size([12737])\n"
          ]
        }
      ]
    },
    {
      "cell_type": "code",
      "source": [
        "# Create data loader for training\n",
        "train_dataset = torch.utils.data.TensorDataset(x_train, y_train)\n",
        "train_loader = torch.utils.data.DataLoader(\n",
        "    train_dataset, batch_size=BATCH_SIZE, shuffle=True\n",
        ")\n",
        "\n",
        "# Set model training parameters\n",
        "input_size = len(scaled_feature_names)\n",
        "\n",
        "# Create and train model (with SharpeLoss)\n",
        "model = RNN_model(input_size, HIDDEN_SIZE, NUM_LAYERS).to(device)\n",
        "optimizer = torch.optim.Adam(model.parameters(), lr=LEARNING_RATE)\n",
        "loss_fn = SharpeLoss()\n",
        "\n",
        "# Train the model\n",
        "train_losses, test_rmses = train_RNN(\n",
        "    model, N_EPOCHS, train_loader, optimizer, loss_fn,\n",
        "    x_train, x_test, y_train, y_test, device\n",
        ")"
      ],
      "metadata": {
        "id": "k6qxJCV0I1Go"
      },
      "execution_count": null,
      "outputs": []
    },
    {
      "cell_type": "code",
      "source": [
        "# Load existing model\n",
        "model = torch.load('./2.8.pth', weights_only = False)"
      ],
      "metadata": {
        "id": "A6FOEH6IHQV4"
      },
      "execution_count": 14,
      "outputs": []
    },
    {
      "cell_type": "code",
      "source": [
        "# Evaluate model\n",
        "y_pred_test, y_actual_test = evaluate_model(model, x_test, y_test, BATCH_SIZE, device)\n",
        "\n",
        "# Generate trading signals and evaluate strategy\n",
        "signals = generate_trading_signals(y_pred_test, threshold=0)\n",
        "\n",
        "cumulative_strategy_returns, cumulative_benchmark_returns, sharpe_ratio = calculate_strategy_performance(\n",
        "    signals, y_actual_test\n",
        ")\n",
        "\n",
        "# Get test dates for plotting\n",
        "test_dates = test_data.iloc[WINDOW_SIZE + PREDICTION_STEP - 1:\n",
        "                           WINDOW_SIZE + PREDICTION_STEP - 1 + len(cumulative_strategy_returns)]['timestamp']\n",
        "\n",
        "# Visualize results\n",
        "plot_returns(cumulative_strategy_returns, cumulative_benchmark_returns, test_dates)\n",
        "# plot_training_loss(train_losses)\n",
        "# plot_predictions_vs_actual(y_actual_test, y_pred_test)\n",
        "\n",
        "# Save model\n",
        "# torch.save(model, 'bitcoin_prediction_model.pth')\n",
        "# print(\"Model saved successfully.\")"
      ],
      "metadata": {
        "colab": {
          "base_uri": "https://localhost:8080/",
          "height": 590
        },
        "id": "TPv-s9VxG0uy",
        "outputId": "0926a432-2a5e-44ad-80c3-bb55a300e6a4"
      },
      "execution_count": 17,
      "outputs": [
        {
          "output_type": "stream",
          "name": "stdout",
          "text": [
            "Test Set Performance Metrics:\n",
            "MSE: 0.01194584\n",
            "RMSE: 0.10929701\n",
            "MAE: 0.07944679\n",
            "R²: -380.685577\n",
            "Strategy Sharpe Ratio (Annualized): 2.8008\n",
            "Signal distribution: Long: 6201, Short: 6536, Hold: 0\n"
          ]
        },
        {
          "output_type": "display_data",
          "data": {
            "text/plain": [
              "<Figure size 1400x700 with 1 Axes>"
            ],
            "image/png": "[encoded data removed]"
          },
          "metadata": {}
        }
      ]
    },
    {
      "cell_type": "code",
      "source": [],
      "metadata": {
        "id": "gXQprrziJXCc"
      },
      "execution_count": null,
      "outputs": []
    }
  ]
}